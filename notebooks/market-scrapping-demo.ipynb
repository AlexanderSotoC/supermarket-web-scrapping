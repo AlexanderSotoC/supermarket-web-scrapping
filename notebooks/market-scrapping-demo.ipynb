{
 "cells": [
  {
   "cell_type": "code",
   "execution_count": 1,
   "metadata": {},
   "outputs": [],
   "source": [
    "from urllib.request import urlopen\n",
    "from bs4 import BeautifulSoup as soup"
   ]
  },
  {
   "cell_type": "code",
   "execution_count": 2,
   "metadata": {},
   "outputs": [],
   "source": [
    "url = \"https://www.plazavea.com.pe/frutas-y-verduras/\""
   ]
  },
  {
   "cell_type": "code",
   "execution_count": 3,
   "metadata": {},
   "outputs": [],
   "source": [
    "client = urlopen(url)\n",
    "page_html = client.read()\n",
    "client.close()"
   ]
  },
  {
   "cell_type": "code",
   "execution_count": 4,
   "metadata": {},
   "outputs": [],
   "source": [
    "page_soup = soup(page_html, \"html.parser\")"
   ]
  },
  {
   "cell_type": "code",
   "execution_count": 5,
   "metadata": {},
   "outputs": [],
   "source": [
    "with open('./page.html', mode='w') as f:\n",
    "    f.write(str(page_soup))"
   ]
  },
  {
   "cell_type": "code",
   "execution_count": 6,
   "metadata": {},
   "outputs": [
    {
     "output_type": "execute_result",
     "data": {
      "text/plain": "<a class=\"Showcase__name\" href=\"https://www.plazavea.com.pe/cebolla-roja-bells-bolsa-2kg/p\" itemprop=\"name\">Cebolla Roja BELL'S Bolsa 2Kg</a>"
     },
     "metadata": {},
     "execution_count": 6
    }
   ],
   "source": [
    "page_soup.find(\"a\", { \"class\": \"Showcase__name\" })"
   ]
  },
  {
   "cell_type": "code",
   "execution_count": 7,
   "metadata": {
    "tags": []
   },
   "outputs": [
    {
     "output_type": "stream",
     "name": "stdout",
     "text": "Cebolla Roja BELL'S Bolsa 2Kg\nMandarina HAPPY FRUT Malla 2Kg\nPalta Fuerte Malla 1Kg\nLimón Ácido Malla 500g\nZapallo Macre\nPiña Golden Malla 2.5Kg\nFresa Premium LA FLORENCIA Táper 500g\nPapaya Bolsa 3Kg\nVainita Americana Bolsa 500g\nChoclo x unidad\nCamote Amarillo Procesado Malla 2.2Kg\nEspinaca BELL'S Bolsa 350g\nPepinillo Bolsa 1Kg\nArveja Bolsa 500g\nApio x unidad\nZanahoria Entera Malla 2Kg\nPera Packhams Importada Bolsa 1Kg\nCebolla Blanca Malla 1Kg\nPapa Canchan BELL'S Malla 2Kg\nPapa Amarilla Bells Malla 2Kg\nRabanito LA FLORENCIA Bolsa 400g\nLechuga Crespa Hidropónica LA FLORENCIA\nPiña Hawai Malla 2.5Kg\nSandía\n"
    }
   ],
   "source": [
    "for div in page_soup.findAll(\"a\", { \"class\": \"Showcase__name\" }):\n",
    "    print(div.text.strip())"
   ]
  },
  {
   "cell_type": "code",
   "execution_count": 8,
   "metadata": {
    "tags": []
   },
   "outputs": [
    {
     "output_type": "stream",
     "name": "stdout",
     "text": "4.99\n2.99\n6.49\n2.89\n2.59\n5.39\n8.99\n4.49\n5.89\n2.19\n1.99\n6.90\n3.59\n6.99\n3.59\n3.49\n7.10\n1.89\n5.50\n8.29\n2.90\n2.90\n2.49\n1.49\n"
    }
   ],
   "source": [
    "for div in page_soup.findAll(\"div\", { \"class\": \"Showcase__priceBox__amount\" }):\n",
    "    inner_div = div.find(\"div\", { \"class\": \"Showcase__salePrice\" })\n",
    "    print(inner_div.text.strip()[3:])"
   ]
  }
 ],
 "metadata": {
  "language_info": {
   "codemirror_mode": {
    "name": "ipython",
    "version": 3
   },
   "file_extension": ".py",
   "mimetype": "text/x-python",
   "name": "python",
   "nbconvert_exporter": "python",
   "pygments_lexer": "ipython3",
   "version": 3
  },
  "orig_nbformat": 2,
  "kernelspec": {
   "name": "python_defaultSpec_1594583470818",
   "display_name": "Python 3.7.4 64-bit ('base': conda)"
  }
 },
 "nbformat": 4,
 "nbformat_minor": 2
}